{
 "cells": [
  {
   "cell_type": "code",
   "execution_count": 174,
   "id": "282c3e71",
   "metadata": {},
   "outputs": [
    {
     "name": "stdout",
     "output_type": "stream",
     "text": [
      "Requirement already satisfied: requests-html in c:\\users\\jumarlm\\miniconda3\\envs\\myenv\\lib\\site-packages (0.10.0)\n",
      "Requirement already satisfied: requests in c:\\users\\jumarlm\\miniconda3\\envs\\myenv\\lib\\site-packages (2.27.1)\n",
      "Requirement already satisfied: pandas in c:\\users\\jumarlm\\miniconda3\\envs\\myenv\\lib\\site-packages (1.1.5)\n",
      "Requirement already satisfied: w3lib in c:\\users\\jumarlm\\miniconda3\\envs\\myenv\\lib\\site-packages (from requests-html) (2.0.1)\n",
      "Requirement already satisfied: pyppeteer>=0.0.14 in c:\\users\\jumarlm\\miniconda3\\envs\\myenv\\lib\\site-packages (from requests-html) (0.2.6)\n",
      "Requirement already satisfied: pyquery in c:\\users\\jumarlm\\miniconda3\\envs\\myenv\\lib\\site-packages (from requests-html) (1.4.3)\n",
      "Requirement already satisfied: fake-useragent in c:\\users\\jumarlm\\miniconda3\\envs\\myenv\\lib\\site-packages (from requests-html) (0.1.11)\n",
      "Requirement already satisfied: bs4 in c:\\users\\jumarlm\\miniconda3\\envs\\myenv\\lib\\site-packages (from requests-html) (0.0.1)\n",
      "Requirement already satisfied: parse in c:\\users\\jumarlm\\miniconda3\\envs\\myenv\\lib\\site-packages (from requests-html) (1.19.0)\n",
      "Requirement already satisfied: charset-normalizer~=2.0.0 in c:\\users\\jumarlm\\miniconda3\\envs\\myenv\\lib\\site-packages (from requests) (2.0.12)\n",
      "Requirement already satisfied: idna<4,>=2.5 in c:\\users\\jumarlm\\miniconda3\\envs\\myenv\\lib\\site-packages (from requests) (3.4)\n",
      "Requirement already satisfied: certifi>=2017.4.17 in c:\\users\\jumarlm\\miniconda3\\envs\\myenv\\lib\\site-packages (from requests) (2021.5.30)\n",
      "Requirement already satisfied: urllib3<1.27,>=1.21.1 in c:\\users\\jumarlm\\miniconda3\\envs\\myenv\\lib\\site-packages (from requests) (1.26.12)\n",
      "Requirement already satisfied: numpy>=1.15.4 in c:\\users\\jumarlm\\miniconda3\\envs\\myenv\\lib\\site-packages (from pandas) (1.19.5)\n",
      "Requirement already satisfied: python-dateutil>=2.7.3 in c:\\users\\jumarlm\\miniconda3\\envs\\myenv\\lib\\site-packages (from pandas) (2.8.2)\n",
      "Requirement already satisfied: pytz>=2017.2 in c:\\users\\jumarlm\\miniconda3\\envs\\myenv\\lib\\site-packages (from pandas) (2022.5)\n",
      "Requirement already satisfied: appdirs<2.0.0,>=1.4.3 in c:\\users\\jumarlm\\miniconda3\\envs\\myenv\\lib\\site-packages (from pyppeteer>=0.0.14->requests-html) (1.4.4)\n",
      "Requirement already satisfied: pyee<9.0.0,>=8.1.0 in c:\\users\\jumarlm\\miniconda3\\envs\\myenv\\lib\\site-packages (from pyppeteer>=0.0.14->requests-html) (8.2.2)\n",
      "Requirement already satisfied: importlib-metadata>=1.4 in c:\\users\\jumarlm\\miniconda3\\envs\\myenv\\lib\\site-packages (from pyppeteer>=0.0.14->requests-html) (4.8.3)\n",
      "Requirement already satisfied: tqdm<5.0.0,>=4.42.1 in c:\\users\\jumarlm\\miniconda3\\envs\\myenv\\lib\\site-packages (from pyppeteer>=0.0.14->requests-html) (4.64.1)\n",
      "Requirement already satisfied: websockets<10.0,>=9.1 in c:\\users\\jumarlm\\miniconda3\\envs\\myenv\\lib\\site-packages (from pyppeteer>=0.0.14->requests-html) (9.1)\n",
      "Requirement already satisfied: zipp>=0.5 in c:\\users\\jumarlm\\miniconda3\\envs\\myenv\\lib\\site-packages (from importlib-metadata>=1.4->pyppeteer>=0.0.14->requests-html) (3.6.0)\n",
      "Requirement already satisfied: typing-extensions>=3.6.4 in c:\\users\\jumarlm\\miniconda3\\envs\\myenv\\lib\\site-packages (from importlib-metadata>=1.4->pyppeteer>=0.0.14->requests-html) (4.1.1)\n",
      "Requirement already satisfied: six>=1.5 in c:\\users\\jumarlm\\miniconda3\\envs\\myenv\\lib\\site-packages (from python-dateutil>=2.7.3->pandas) (1.16.0)\n",
      "Requirement already satisfied: importlib-resources in c:\\users\\jumarlm\\miniconda3\\envs\\myenv\\lib\\site-packages (from tqdm<5.0.0,>=4.42.1->pyppeteer>=0.0.14->requests-html) (5.4.0)\n",
      "Requirement already satisfied: colorama in c:\\users\\jumarlm\\miniconda3\\envs\\myenv\\lib\\site-packages (from tqdm<5.0.0,>=4.42.1->pyppeteer>=0.0.14->requests-html) (0.4.4)\n",
      "Requirement already satisfied: beautifulsoup4 in c:\\users\\jumarlm\\miniconda3\\envs\\myenv\\lib\\site-packages (from bs4->requests-html) (4.11.1)\n",
      "Requirement already satisfied: soupsieve>1.2 in c:\\users\\jumarlm\\miniconda3\\envs\\myenv\\lib\\site-packages (from beautifulsoup4->bs4->requests-html) (2.3.2.post1)\n",
      "Requirement already satisfied: cssselect>0.7.9 in c:\\users\\jumarlm\\miniconda3\\envs\\myenv\\lib\\site-packages (from pyquery->requests-html) (1.1.0)\n",
      "Requirement already satisfied: lxml>=2.1 in c:\\users\\jumarlm\\miniconda3\\envs\\myenv\\lib\\site-packages (from pyquery->requests-html) (4.9.1)\n",
      "Note: you may need to restart the kernel to use updated packages.\n"
     ]
    }
   ],
   "source": []
  },
  {
   "cell_type": "code",
   "execution_count": 1,
   "id": "1186e94e",
   "metadata": {},
   "outputs": [],
   "source": [
    "import requests\n",
    "from requests_html import HTML\n",
    "import time\n",
    "import pandas as pd\n",
    "from bs4 import BeautifulSoup"
   ]
  },
  {
   "cell_type": "code",
   "execution_count": 2,
   "id": "ccbca51b",
   "metadata": {},
   "outputs": [
    {
     "data": {
      "text/plain": [
       "'https://stackoverflow.com/questions/tagged/python?tab=Votes&page=2&pagesize=50'"
      ]
     },
     "execution_count": 2,
     "metadata": {},
     "output_type": "execute_result"
    }
   ],
   "source": [
    "base_url = 'https://stackoverflow.com/questions/tagged/'\n",
    "tag = \"python\"\n",
    "query_filter = \"Votes\"\n",
    "pageNum = 2\n",
    "\n",
    "url = f\"{base_url}{tag}?tab={query_filter}&page={pageNum}&pagesize=50\"\n",
    "url"
   ]
  },
  {
   "cell_type": "code",
   "execution_count": 3,
   "id": "0dd1a14a",
   "metadata": {},
   "outputs": [],
   "source": [
    "#r = requests.get(url)\n",
    "#html_str = r.text\n",
    "#html = HTML(url = url, html=r.text)\n",
    "#html"
   ]
  },
  {
   "cell_type": "code",
   "execution_count": 4,
   "id": "07e33307",
   "metadata": {},
   "outputs": [],
   "source": [
    "#post_summeries = html.find(\".s-post-summary\")\n",
    "#post_summeries\n",
    "# #print(html.find(\".s-post-summary\")[0])\n",
    "#print(post_summeries[0])\n",
    "#print(post_summeries[0].text)\n",
    "# #print(post_summeries[1].text)\n",
    "# #columns = ['votes', 'vote_title', 'num_answers', 'views', 'question', 'short_desc', 'tags', 'date', 'user', 'user_details']\n",
    "#this_row = list(post_summeries[0].text.split(\"\\n\"))\n",
    "#this_row"
   ]
  },
  {
   "cell_type": "code",
   "execution_count": 5,
   "id": "e2ed45ba",
   "metadata": {},
   "outputs": [],
   "source": [
    "errorurl = \"https://stackoverflow.com/questions/tagged/pytorch?tab=Votes&page=102&pagesize=50\""
   ]
  },
  {
   "cell_type": "code",
   "execution_count": 6,
   "id": "64cfb259",
   "metadata": {},
   "outputs": [],
   "source": [
    "r = requests.get(errorurl)\n",
    "so_soup = BeautifulSoup(r.text, 'html.parser')"
   ]
  },
  {
   "cell_type": "code",
   "execution_count": 180,
   "id": "428eb080",
   "metadata": {},
   "outputs": [],
   "source": [
    "#print(so_soup.prettify())"
   ]
  },
  {
   "cell_type": "code",
   "execution_count": 7,
   "id": "dd5fe763",
   "metadata": {},
   "outputs": [
    {
     "ename": "AttributeError",
     "evalue": "ResultSet object has no attribute 'getText'. You're probably treating a list of elements like a single element. Did you call find_all() when you meant to call find()?",
     "output_type": "error",
     "traceback": [
      "\u001b[1;31m---------------------------------------------------------------------------\u001b[0m",
      "\u001b[1;31mAttributeError\u001b[0m                            Traceback (most recent call last)",
      "\u001b[1;32m<ipython-input-7-e7160fb841d4>\u001b[0m in \u001b[0;36m<module>\u001b[1;34m\u001b[0m\n\u001b[1;32m----> 1\u001b[1;33m \u001b[0mvote_count\u001b[0m \u001b[1;33m=\u001b[0m \u001b[0mso_soup\u001b[0m\u001b[1;33m.\u001b[0m\u001b[0mselect\u001b[0m\u001b[1;33m(\u001b[0m\u001b[1;34m'.vote-count-post'\u001b[0m\u001b[1;33m)\u001b[0m\u001b[1;33m.\u001b[0m\u001b[0mgetText\u001b[0m\u001b[1;33m(\u001b[0m\u001b[1;33m)\u001b[0m\u001b[1;33m\u001b[0m\u001b[1;33m\u001b[0m\u001b[0m\n\u001b[0m",
      "\u001b[1;32mc:\\Users\\jumarlm\\Miniconda3\\envs\\myenv\\lib\\site-packages\\bs4\\element.py\u001b[0m in \u001b[0;36m__getattr__\u001b[1;34m(self, key)\u001b[0m\n\u001b[0;32m   2288\u001b[0m         \u001b[1;34m\"\"\"Raise a helpful exception to explain a common code fix.\"\"\"\u001b[0m\u001b[1;33m\u001b[0m\u001b[1;33m\u001b[0m\u001b[0m\n\u001b[0;32m   2289\u001b[0m         raise AttributeError(\n\u001b[1;32m-> 2290\u001b[1;33m             \u001b[1;34m\"ResultSet object has no attribute '%s'. You're probably treating a list of elements like a single element. Did you call find_all() when you meant to call find()?\"\u001b[0m \u001b[1;33m%\u001b[0m \u001b[0mkey\u001b[0m\u001b[1;33m\u001b[0m\u001b[1;33m\u001b[0m\u001b[0m\n\u001b[0m\u001b[0;32m   2291\u001b[0m         )\n",
      "\u001b[1;31mAttributeError\u001b[0m: ResultSet object has no attribute 'getText'. You're probably treating a list of elements like a single element. Did you call find_all() when you meant to call find()?"
     ]
    }
   ],
   "source": [
    "vote_count = so_soup.select('.vote-count-post').getText()"
   ]
  },
  {
   "cell_type": "code",
   "execution_count": 11,
   "id": "d208f483",
   "metadata": {},
   "outputs": [],
   "source": [
    "question_block = so_soup.find(id = \"questions\")"
   ]
  },
  {
   "cell_type": "code",
   "execution_count": 14,
   "id": "82c69a38",
   "metadata": {},
   "outputs": [
    {
     "name": "stdout",
     "output_type": "stream",
     "text": [
      "None\n"
     ]
    }
   ],
   "source": [
    "print(question_block)"
   ]
  },
  {
   "cell_type": "code",
   "execution_count": 12,
   "id": "8117c617",
   "metadata": {},
   "outputs": [
    {
     "ename": "AttributeError",
     "evalue": "'NoneType' object has no attribute 'find_all'",
     "output_type": "error",
     "traceback": [
      "\u001b[1;31m---------------------------------------------------------------------------\u001b[0m",
      "\u001b[1;31mAttributeError\u001b[0m                            Traceback (most recent call last)",
      "\u001b[1;32m<ipython-input-12-348e5fa17b79>\u001b[0m in \u001b[0;36m<module>\u001b[1;34m\u001b[0m\n\u001b[1;32m----> 1\u001b[1;33m \u001b[0mquestion_links\u001b[0m \u001b[1;33m=\u001b[0m \u001b[0mquestion_block\u001b[0m\u001b[1;33m.\u001b[0m\u001b[0mfind_all\u001b[0m\u001b[1;33m(\u001b[0m\u001b[1;34m\"a\"\u001b[0m\u001b[1;33m,\u001b[0m \u001b[0mclass_\u001b[0m\u001b[1;33m=\u001b[0m\u001b[1;34m\"s-link\"\u001b[0m\u001b[1;33m)\u001b[0m\u001b[1;33m\u001b[0m\u001b[1;33m\u001b[0m\u001b[0m\n\u001b[0m\u001b[0;32m      2\u001b[0m \u001b[0mlen\u001b[0m\u001b[1;33m(\u001b[0m\u001b[0mquestion_links\u001b[0m\u001b[1;33m)\u001b[0m\u001b[1;33m\u001b[0m\u001b[1;33m\u001b[0m\u001b[0m\n",
      "\u001b[1;31mAttributeError\u001b[0m: 'NoneType' object has no attribute 'find_all'"
     ]
    }
   ],
   "source": [
    "question_links = question_block.find_all(\"a\", class_=\"s-link\")\n",
    "len(question_links)"
   ]
  },
  {
   "cell_type": "code",
   "execution_count": 6,
   "id": "e0ae0dfc",
   "metadata": {},
   "outputs": [],
   "source": [
    "href = []\n",
    "for i in question_links:\n",
    "    href.append(i['href'])"
   ]
  },
  {
   "cell_type": "code",
   "execution_count": 7,
   "id": "097327ea",
   "metadata": {},
   "outputs": [
    {
     "data": {
      "text/plain": [
       "50"
      ]
     },
     "execution_count": 7,
     "metadata": {},
     "output_type": "execute_result"
    }
   ],
   "source": [
    "len(href)"
   ]
  },
  {
   "cell_type": "code",
   "execution_count": null,
   "id": "eba0056e",
   "metadata": {},
   "outputs": [],
   "source": [
    "        time.sleep(5)\n",
    "        r = requests.get(url)\n",
    "        so_soup = BeautifulSoup(r.text, 'html.parser')\n",
    "        question_block = so_soup.find(id = \"questions\")\n",
    "        if (question_block == None):\n",
    "            print(\"Error in URL: \"+ url)\n",
    "        else:\n",
    "            question_links = question_block.find_all(\"a\", class_=\"s-link\",href=True)"
   ]
  },
  {
   "cell_type": "code",
   "execution_count": 14,
   "id": "d94dfd5c",
   "metadata": {},
   "outputs": [
    {
     "data": {
      "text/plain": [
       "'http://stackoverflow.com/questions/48152674/how-do-i-check-if-pytorch-is-using-the-gpu'"
      ]
     },
     "execution_count": 14,
     "metadata": {},
     "output_type": "execute_result"
    }
   ],
   "source": [
    "prefix = 'http://stackoverflow.com'\n",
    "questionLink = '/questions/48152674/how-do-i-check-if-pytorch-is-using-the-gpu'\n",
    "\n",
    "contentUrl = prefix + questionLink\n",
    "contentUrl"
   ]
  },
  {
   "cell_type": "code",
   "execution_count": 16,
   "id": "1f47dcac",
   "metadata": {},
   "outputs": [],
   "source": [
    "r = requests.get(contentUrl)"
   ]
  },
  {
   "cell_type": "code",
   "execution_count": 17,
   "id": "7b4422c6",
   "metadata": {},
   "outputs": [],
   "source": [
    "content_soup = BeautifulSoup(r.text, 'html.parser')"
   ]
  },
  {
   "cell_type": "code",
   "execution_count": 72,
   "id": "c95b9079",
   "metadata": {},
   "outputs": [
    {
     "data": {
      "text/plain": [
       "'How do I check if PyTorch is using the GPU?'"
      ]
     },
     "execution_count": 72,
     "metadata": {},
     "output_type": "execute_result"
    }
   ],
   "source": [
    "qHeader = content_soup.find(class_ = \"question-hyperlink\").text\n",
    "qHeader"
   ]
  },
  {
   "cell_type": "code",
   "execution_count": 74,
   "id": "477efb9d",
   "metadata": {},
   "outputs": [
    {
     "data": {
      "text/plain": [
       "'414'"
      ]
     },
     "execution_count": 74,
     "metadata": {},
     "output_type": "execute_result"
    }
   ],
   "source": [
    "qvote = content_soup.find(class_ = \"question js-question\").attrs.get('data-score')\n",
    "qvote"
   ]
  },
  {
   "cell_type": "code",
   "execution_count": 27,
   "id": "fae766d9",
   "metadata": {},
   "outputs": [],
   "source": [
    "#mainbar = content_soup.find(id = \"mainbar\")\n"
   ]
  },
  {
   "cell_type": "code",
   "execution_count": 50,
   "id": "c7498d0b",
   "metadata": {},
   "outputs": [
    {
     "data": {
      "text/plain": [
       "'414'"
      ]
     },
     "execution_count": 50,
     "metadata": {},
     "output_type": "execute_result"
    }
   ],
   "source": []
  },
  {
   "cell_type": "code",
   "execution_count": 75,
   "id": "a51f5163",
   "metadata": {},
   "outputs": [
    {
     "data": {
      "text/plain": [
       "'\\nHow do I check if PyTorch is using the GPU? The nvidia-smi command can detect GPU activity, but I want to check it directly from inside a Python script.\\n'"
      ]
     },
     "execution_count": 75,
     "metadata": {},
     "output_type": "execute_result"
    }
   ],
   "source": [
    "question = content_soup.find(class_ = \"s-prose js-post-body\").text\n",
    "question\n"
   ]
  },
  {
   "cell_type": "code",
   "execution_count": 77,
   "id": "2f4c4cb9",
   "metadata": {},
   "outputs": [
    {
     "data": {
      "text/plain": [
       "<code>nvidia-smi</code>"
      ]
     },
     "execution_count": 77,
     "metadata": {},
     "output_type": "execute_result"
    }
   ],
   "source": [
    "qCodeTag = content_soup.find(class_ = \"s-prose js-post-body\").find(\"code\")\n",
    "codeTag"
   ]
  },
  {
   "cell_type": "code",
   "execution_count": 99,
   "id": "8c866949",
   "metadata": {},
   "outputs": [
    {
     "data": {
      "text/plain": [
       "'2018-01-08 14:50:13Z'"
      ]
     },
     "execution_count": 99,
     "metadata": {},
     "output_type": "execute_result"
    }
   ],
   "source": [
    "qTime = content_soup.find(class_ = \"post-signature owner flex--item\").find('span').attrs.get('title')\n",
    "qTime"
   ]
  },
  {
   "cell_type": "code",
   "execution_count": 102,
   "id": "198f2de0",
   "metadata": {},
   "outputs": [
    {
     "data": {
      "text/plain": [
       "'vvvvv'"
      ]
     },
     "execution_count": 102,
     "metadata": {},
     "output_type": "execute_result"
    }
   ],
   "source": [
    "qAuthor = content_soup.find(class_ = \"post-signature owner flex--item\").find(class_ = \"user-details\").find(\"a\").text#.attrs.get('title')\n",
    "qAuthor"
   ]
  },
  {
   "cell_type": "code",
   "execution_count": 104,
   "id": "095d68ff",
   "metadata": {},
   "outputs": [
    {
     "data": {
      "text/plain": [
       "'19.2k'"
      ]
     },
     "execution_count": 104,
     "metadata": {},
     "output_type": "execute_result"
    }
   ],
   "source": [
    "qAuthorRep = content_soup.find(class_ = \"post-signature owner flex--item\").find(class_ = \"user-details\").find(class_ = 'reputation-score').text\n",
    "qAuthorRep"
   ]
  },
  {
   "cell_type": "code",
   "execution_count": null,
   "id": "2e9dd12d",
   "metadata": {},
   "outputs": [],
   "source": [
    "#qComments = content_soup.find(class_ = )"
   ]
  },
  {
   "cell_type": "code",
   "execution_count": 118,
   "id": "386301fb",
   "metadata": {},
   "outputs": [
    {
     "data": {
      "text/plain": [
       "'14'"
      ]
     },
     "execution_count": 118,
     "metadata": {},
     "output_type": "execute_result"
    }
   ],
   "source": [
    "numAnswers = content_soup.find(id = 'answers').find(class_ = \"mb0\").get(\"data-answercount\")\n",
    "numAnswers"
   ]
  },
  {
   "cell_type": "code",
   "execution_count": 157,
   "id": "f1bef374",
   "metadata": {},
   "outputs": [
    {
     "data": {
      "text/plain": [
       "{'class': ['js-accepted-answer-indicator',\n",
       "  'flex--item',\n",
       "  'fc-green-700',\n",
       "  'py6',\n",
       "  'mtn8'],\n",
       " 'data-s-tooltip-placement': 'right',\n",
       " 'title': 'Loading when this answer was accepted…',\n",
       " 'tabindex': '0',\n",
       " 'role': 'note',\n",
       " 'aria-label': 'Accepted'}"
      ]
     },
     "execution_count": 157,
     "metadata": {},
     "output_type": "execute_result"
    }
   ],
   "source": [
    "tempurl = \"https://stackoverflow.com/questions/54816322/get-specify-value-from-html-with-python-beautifulsoup\"\n",
    "tempr = requests.get(contentUrl)\n",
    "temp_content_soup = BeautifulSoup(tempr.text, 'html.parser')\n",
    "hasAcceptedAns = temp_content_soup.find(class_ =\"js-accepted-answer-indicator flex--item fc-green-700 py6 mtn8\").attrs\n",
    "hasAcceptedAns\n"
   ]
  },
  {
   "cell_type": "code",
   "execution_count": 153,
   "id": "91a4e8fa",
   "metadata": {},
   "outputs": [
    {
     "data": {
      "text/plain": [
       "{'class': ['js-accepted-answer-indicator',\n",
       "  'flex--item',\n",
       "  'fc-green-700',\n",
       "  'py6',\n",
       "  'mtn8'],\n",
       " 'data-s-tooltip-placement': 'right',\n",
       " 'title': 'Loading when this answer was accepted…',\n",
       " 'tabindex': '0',\n",
       " 'role': 'note',\n",
       " 'aria-label': 'Accepted'}"
      ]
     },
     "execution_count": 153,
     "metadata": {},
     "output_type": "execute_result"
    }
   ],
   "source": [
    "temp = content_soup.find(class_ =\"js-accepted-answer-indicator flex--item fc-green-700 py6 mtn8\").find(\"\")\n",
    "temp"
   ]
  },
  {
   "cell_type": "code",
   "execution_count": 127,
   "id": "11d3b0e5",
   "metadata": {},
   "outputs": [
    {
     "data": {
      "text/plain": [
       "\"\\nThese functions should help:\\n>>> import torch\\n\\n>>> torch.cuda.is_available()\\nTrue\\n\\n>>> torch.cuda.device_count()\\n1\\n\\n>>> torch.cuda.current_device()\\n0\\n\\n>>> torch.cuda.device(0)\\n<torch.cuda.device at 0x7efce0b03be0>\\n\\n>>> torch.cuda.get_device_name(0)\\n'GeForce GTX 950M'\\n\\nThis tells us:\\n\\nCUDA is available and can be used by one device.\\nDevice 0 refers to the GPU GeForce GTX 950M, and it is currently chosen by PyTorch.\\n\\n\""
      ]
     },
     "execution_count": 127,
     "metadata": {},
     "output_type": "execute_result"
    }
   ],
   "source": [
    "acceptAns = content_soup.find(class_ = \"answer js-answer accepted-answer js-accepted-answer\").find(class_ = 's-prose js-post-body').text\n",
    "acceptAns"
   ]
  },
  {
   "cell_type": "code",
   "execution_count": 136,
   "id": "c4bb6c38",
   "metadata": {},
   "outputs": [
    {
     "data": {
      "text/plain": [
       "[<code>&gt;&gt;&gt; import torch\n",
       " \n",
       " &gt;&gt;&gt; torch.cuda.is_available()\n",
       " True\n",
       " \n",
       " &gt;&gt;&gt; torch.cuda.device_count()\n",
       " 1\n",
       " \n",
       " &gt;&gt;&gt; torch.cuda.current_device()\n",
       " 0\n",
       " \n",
       " &gt;&gt;&gt; torch.cuda.device(0)\n",
       " &lt;torch.cuda.device at 0x7efce0b03be0&gt;\n",
       " \n",
       " &gt;&gt;&gt; torch.cuda.get_device_name(0)\n",
       " 'GeForce GTX 950M'\n",
       " </code>,\n",
       " <code>Device 0</code>,\n",
       " <code>GeForce GTX 950M</code>]"
      ]
     },
     "execution_count": 136,
     "metadata": {},
     "output_type": "execute_result"
    }
   ],
   "source": [
    "acceptAnsCode = content_soup.find(class_ = \"answer js-answer accepted-answer js-accepted-answer\").find(class_ = 's-prose js-post-body').findAll(\"code\")\n",
    "acceptAnsCode"
   ]
  },
  {
   "cell_type": "code",
   "execution_count": null,
   "id": "b2a1ee47",
   "metadata": {},
   "outputs": [],
   "source": []
  }
 ],
 "metadata": {
  "kernelspec": {
   "display_name": "Python 3.6.13 ('myenv')",
   "language": "python",
   "name": "python3"
  },
  "language_info": {
   "codemirror_mode": {
    "name": "ipython",
    "version": 3
   },
   "file_extension": ".py",
   "mimetype": "text/x-python",
   "name": "python",
   "nbconvert_exporter": "python",
   "pygments_lexer": "ipython3",
   "version": "3.6.13"
  },
  "vscode": {
   "interpreter": {
    "hash": "c7d2e83568dbff1545d0f3f34a5d108ef9253de21190205936dbc8cf4cb1f068"
   }
  }
 },
 "nbformat": 4,
 "nbformat_minor": 5
}
